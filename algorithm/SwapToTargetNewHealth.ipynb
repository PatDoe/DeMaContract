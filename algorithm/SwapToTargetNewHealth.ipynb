{
 "cells": [
  {
   "cell_type": "code",
   "execution_count": 5,
   "metadata": {},
   "outputs": [],
   "source": [
    "def health(na, nb, da, db, pa, ra, rb):\n",
    "#     result = (na - da + (nb - db) * ra / rb) / pa\n",
    "    eta = na / ra\n",
    "    k = ra * rb\n",
    "    result = (2*eta*ra - da - ra*ra*db/k) / pa\n",
    "    print(result)"
   ]
  },
  {
   "cell_type": "code",
   "execution_count": 22,
   "metadata": {},
   "outputs": [
    {
     "name": "stdout",
     "output_type": "stream",
     "text": [
      "1.0000654582214283\n"
     ]
    }
   ],
   "source": [
    "na = 2.998748056990335\n",
    "nb = 0\n",
    "da = 2\n",
    "db = 200\n",
    "pa = 2.997099969139249\n",
    "ra = 10004\n",
    "rb = 2000400\n",
    "health(na, nb, da, db, pa, ra, rb)"
   ]
  },
  {
   "cell_type": "code",
   "execution_count": 23,
   "metadata": {},
   "outputs": [
    {
     "name": "stdout",
     "output_type": "stream",
     "text": [
      "9.994002798800496e-09\n",
      "-0.000599509807475077\n",
      "3.4985499845696246\n"
     ]
    }
   ],
   "source": [
    "eta = na / ra\n",
    "k = ra * rb\n",
    "\n",
    "a = db / k\n",
    "b = -2 * eta\n",
    "c = da + pa * 0.5\n",
    "\n",
    "print(a)\n",
    "print(b)\n",
    "print(c)"
   ]
  },
  {
   "cell_type": "code",
   "execution_count": 24,
   "metadata": {},
   "outputs": [
    {
     "name": "stdout",
     "output_type": "stream",
     "text": [
      "6551.127777442892\n",
      "3054741.4551897664\n",
      "1.9637326762997085\n",
      "915.6737308434766\n"
     ]
    }
   ],
   "source": [
    "raN = (-b - (b*b - 4*a*c)**0.5) / (2*a)\n",
    "print(raN)\n",
    "rbN = k / raN\n",
    "print(rbN)\n",
    "naN = raN * eta\n",
    "print(naN)\n",
    "nbN = rbN * eta\n",
    "print(nbN)"
   ]
  },
  {
   "cell_type": "code",
   "execution_count": 25,
   "metadata": {},
   "outputs": [
    {
     "name": "stdout",
     "output_type": "stream",
     "text": [
      "0.5000000000000006\n"
     ]
    }
   ],
   "source": [
    "health(naN, nbN, da, db, pa, raN, rbN)"
   ]
  },
  {
   "cell_type": "code",
   "execution_count": 26,
   "metadata": {},
   "outputs": [
    {
     "name": "stdout",
     "output_type": "stream",
     "text": [
      "0.5000000000000006\n"
     ]
    }
   ],
   "source": [
    "health(naN/2, nbN/2, da/2, db/2, pa/2, raN, rbN)"
   ]
  },
  {
   "cell_type": "code",
   "execution_count": null,
   "metadata": {},
   "outputs": [],
   "source": []
  }
 ],
 "metadata": {
  "kernelspec": {
   "display_name": "Python 3",
   "language": "python",
   "name": "python3"
  },
  "language_info": {
   "codemirror_mode": {
    "name": "ipython",
    "version": 3
   },
   "file_extension": ".py",
   "mimetype": "text/x-python",
   "name": "python",
   "nbconvert_exporter": "python",
   "pygments_lexer": "ipython3",
   "version": "3.7.6"
  }
 },
 "nbformat": 4,
 "nbformat_minor": 4
}
