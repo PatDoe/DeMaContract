{
 "cells": [
  {
   "cell_type": "code",
   "execution_count": 3,
   "metadata": {},
   "outputs": [],
   "source": [
    "def health(na, nb, da, db, pa, ra, rb):\n",
    "#     result = (na - da + (nb - db) * ra / rb) / pa\n",
    "    eta = na / ra\n",
    "    k = ra * rb\n",
    "    result = (2*eta*ra - da - ra*ra*db/k) / pa\n",
    "    print(result)"
   ]
  },
  {
   "cell_type": "code",
   "execution_count": 16,
   "metadata": {},
   "outputs": [
    {
     "name": "stdout",
     "output_type": "stream",
     "text": [
      "1.3333333333333333\n"
     ]
    }
   ],
   "source": [
    "na = 400\n",
    "nb = 400\n",
    "da = 0\n",
    "db = 0\n",
    "pa = 600\n",
    "ra = 2000600\n",
    "rb = 2000400\n",
    "health(na, nb, da, db, pa, ra, rb)"
   ]
  },
  {
   "cell_type": "code",
   "execution_count": 17,
   "metadata": {},
   "outputs": [
    {
     "name": "stdout",
     "output_type": "stream",
     "text": [
      "0.0\n",
      "-0.00039988003598920324\n",
      "300.0\n"
     ]
    }
   ],
   "source": [
    "eta = na / ra\n",
    "k = ra * rb\n",
    "\n",
    "a = db / k\n",
    "b = -2 * eta\n",
    "c = da + pa * 0.5\n",
    "\n",
    "print(a)\n",
    "print(b)\n",
    "print(c)"
   ]
  },
  {
   "cell_type": "code",
   "execution_count": 18,
   "metadata": {},
   "outputs": [
    {
     "name": "stdout",
     "output_type": "stream",
     "text": [
      "750225.0\n",
      "5334400.0\n",
      "150.0\n",
      "1066.5600319904029\n"
     ]
    }
   ],
   "source": [
    "if a == 0:\n",
    "    raN = (da + pa * 0.5) / (2 * eta)\n",
    "else:\n",
    "    raN = (-b - (b*b - 4*a*c)**0.5) / (2*a)\n",
    "print(raN)\n",
    "rbN = k / raN\n",
    "print(rbN)\n",
    "naN = raN * eta\n",
    "print(naN)\n",
    "nbN = rbN * eta\n",
    "print(nbN)"
   ]
  },
  {
   "cell_type": "code",
   "execution_count": 19,
   "metadata": {},
   "outputs": [
    {
     "name": "stdout",
     "output_type": "stream",
     "text": [
      "0.5\n"
     ]
    }
   ],
   "source": [
    "health(naN, nbN, da, db, pa, raN, rbN)"
   ]
  },
  {
   "cell_type": "code",
   "execution_count": 26,
   "metadata": {},
   "outputs": [
    {
     "name": "stdout",
     "output_type": "stream",
     "text": [
      "0.5000000000000006\n"
     ]
    }
   ],
   "source": [
    "health(naN/2, nbN/2, da/2, db/2, pa/2, raN, rbN)"
   ]
  },
  {
   "cell_type": "code",
   "execution_count": null,
   "metadata": {},
   "outputs": [],
   "source": []
  }
 ],
 "metadata": {
  "kernelspec": {
   "display_name": "Python 3",
   "language": "python",
   "name": "python3"
  },
  "language_info": {
   "codemirror_mode": {
    "name": "ipython",
    "version": 3
   },
   "file_extension": ".py",
   "mimetype": "text/x-python",
   "name": "python",
   "nbconvert_exporter": "python",
   "pygments_lexer": "ipython3",
   "version": "3.7.3"
  }
 },
 "nbformat": 4,
 "nbformat_minor": 4
}
