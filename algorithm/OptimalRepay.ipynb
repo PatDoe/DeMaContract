{
 "metadata": {
  "language_info": {
   "codemirror_mode": {
    "name": "ipython",
    "version": 3
   },
   "file_extension": ".py",
   "mimetype": "text/x-python",
   "name": "python",
   "nbconvert_exporter": "python",
   "pygments_lexer": "ipython3",
   "version": "3.7.6"
  },
  "orig_nbformat": 2,
  "kernelspec": {
   "name": "python376jvsc74a57bd06040395f302297ab2d45cd7975a186eea916ba0140b3441de43ce0719a365538",
   "display_name": "Python 3.7.6 64-bit ('base': conda)"
  }
 },
 "nbformat": 4,
 "nbformat_minor": 2,
 "cells": [
  {
   "cell_type": "code",
   "execution_count": 29,
   "metadata": {},
   "outputs": [
    {
     "output_type": "stream",
     "name": "stdout",
     "text": [
      "Swap from token fromToken to 100 token toToken\nSwap from 1 token fromToken to token toToken\n"
     ]
    }
   ],
   "source": [
    "def swapTokensForExactTokens(toAmount, path):\n",
    "    print('Swap from token {} to {} token {}'.format(path[0], toAmount, path[1]))\n",
    "\n",
    "def swapExactTokensForTokens(fromAmount, path):\n",
    "    print('Swap from {} token {} to token {}'.format(fromAmount, path[0], path[1]))\n",
    "\n",
    "swapTokensForExactTokens(100, ['fromToken', 'toToken'])\n",
    "swapExactTokensForTokens(1, ['fromToken', 'toToken'])"
   ]
  },
  {
   "cell_type": "code",
   "execution_count": 89,
   "metadata": {},
   "outputs": [
    {
     "output_type": "execute_result",
     "data": {
      "text/plain": [
       "39.893314181976834"
      ]
     },
     "metadata": {},
     "execution_count": 89
    }
   ],
   "source": [
    "def getSellAmount(nIn, rIn, rOut):\n",
    "    if (nIn == 0):\n",
    "        return 0\n",
    "    else:\n",
    "        aInWithFee = nIn * 997\n",
    "        numerator = aInWithFee * rOut\n",
    "        denominator = rIn * 1000 + aInWithFee\n",
    "        return numerator / denominator\n",
    "\n",
    "getSellAmount(nIn=2.001066858179911, rIn=10000, rOut=200000)"
   ]
  },
  {
   "cell_type": "code",
   "execution_count": 99,
   "metadata": {},
   "outputs": [
    {
     "output_type": "stream",
     "name": "stdout",
     "text": [
      "Swap from token A to 20 token B\n(2.003099390990718, 100)\nSwap from token B to 0.5 token A\n(1.0, 290.03049697972557)\nCan repay without swap, don't swap\n(2, 200)\n"
     ]
    }
   ],
   "source": [
    "# Swap to repay all debts\n",
    "def swapToRepayAll(ra, rb, da, db, na, nb):\n",
    "    leftA = na\n",
    "    leftB = nb\n",
    "\n",
    "    if (na > da and nb < db):\n",
    "        # Swap A to (db - nb) B\n",
    "        swapTokensForExactTokens(db - nb, ['A', 'B'])\n",
    "        leftB += db - nb\n",
    "        leftA -= getSellAmount(nIn=db-nb, rIn=rb, rOut=ra)  # Not exactly\n",
    "\n",
    "    elif (nb > db and na < da):\n",
    "        # Swap B to (da - na) A\n",
    "        swapTokensForExactTokens(da - na, ['B', 'A'])\n",
    "        leftA += da - na\n",
    "        leftB -= getSellAmount(nIn=da-na, rIn=ra, rOut=rb)  # Not exactly\n",
    "\n",
    "    elif (na < da and nb < db):\n",
    "        print('Not enough token to repay debt, don\\'t swap')\n",
    "    else:\n",
    "        print('Can repay without swap, don\\'t swap')\n",
    "    \n",
    "    assert leftA >= da and leftB >= db, \"require repay all debts\"\n",
    "\n",
    "    return leftA, leftB\n",
    "\n",
    "\n",
    "print(swapToRepayAll(ra=10000, rb=200000, da=1, db=100, na=3, nb=80))          # A is much more\n",
    "print(swapToRepayAll(ra=10000, rb=200000, da=1, db=100, na=0.5, nb=300))       # B is much more\n",
    "# swapToRepayAll(ra=10000, rb=200000, da=1, db=100, na=0.5, nb=50)        # Both less than debts, should assert error\n",
    "print(swapToRepayAll(ra=10000, rb=200000, da=1, db=100, na=2, nb=200))         # Both more than debts"
   ]
  },
  {
   "cell_type": "code",
   "execution_count": 77,
   "metadata": {},
   "outputs": [
    {
     "output_type": "stream",
     "name": "stdout",
     "text": [
      "2.001066858179911\n3\n0.01\n"
     ]
    }
   ],
   "source": [
    "import math\n",
    "\n",
    "# Swap A to B with the debts ratio\n",
    "def swapAToBWithDebtsRatio(ra, rb, da, db, na, nb):\n",
    "    assert na * db > nb * da, \"na / da should lager than nb / db\"\n",
    "\n",
    "    if (da == 0):\n",
    "        return na\n",
    "\n",
    "    part1 = nb * da / db - na\n",
    "    part2 = 1000 * ra / 997\n",
    "    part3 = da * rb / db\n",
    "\n",
    "    b = part1 + part2 + part3\n",
    "    c = part1 * part2\n",
    "\n",
    "\n",
    "    return (-b + math.sqrt(b * b - 4 * c)) / 2\n",
    "\n",
    "print(swapAToBWithDebtsRatio(ra=10000, rb=200000, da=1, db=100, na=3, nb=60))       # Swap 2 A to B\n",
    "print(swapAToBWithDebtsRatio(ra=10000, rb=200000, da=0, db=100, na=3, nb=60))       # Swap 3 A to B\n",
    "print(swapAToBWithDebtsRatio(ra=10000, rb=200000, da=0, db=100, na=0.01, nb=0))     # Swap 0.01 A to B\n",
    "# print(swapAToBWithDebtsRatio(ra=10000, rb=200000, da=1, db=100, na=1, nb=200))      # A is less, should assert error\n",
    "# print(swapAToBWithDebtsRatio(ra=10000, rb=200000, da=0, db=0, na=1, nb=200))        # da and db are both 0, should assert error"
   ]
  },
  {
   "cell_type": "code",
   "execution_count": 28,
   "metadata": {},
   "outputs": [
    {
     "output_type": "execute_result",
     "data": {
      "text/plain": [
       "99.9999999999679"
      ]
     },
     "metadata": {},
     "execution_count": 28
    }
   ],
   "source": [
    "(60 + 39.893314181976834) / (3 - 2.001066858179911) # Should equal to 100 / 1 (db / da)"
   ]
  },
  {
   "cell_type": "code",
   "execution_count": 101,
   "metadata": {},
   "outputs": [
    {
     "output_type": "stream",
     "name": "stdout",
     "text": [
      " Repay all\n - Two debts\nRepay all debts: Swap from token A to 40 token B\n(2.006397524333648, 100)\nRepay all debts: Swap from token B to 1 token A\n(1, 100.46198781981437)\nRepay all debts: Can repay without swap, don't swap\n(2, 200)\n\n - One debts\nRepay all debts: Swap from token A to 40 token B\n(2.006397524333648, 100)\nRepay all debts: Can repay without swap, don't swap\n(4, 100)\nRepay all debts: Swap from token B to 1 token A\n(1, 1.061987819814366)\nRepay all debts: Can repay without swap, don't swap\n(1, 20)\n\n Repay according to two debts amount ratio\n - Two debts\nRepay with debts ratio: Swap from 2.001066858179911 token A to token B\n(0.9989331418200891, 99.89331418197683)\nRepay with debts ratio: Swap from 10.025479962816462 token B to token A\n(0.9997452003717189, 99.97452003718354)\n\n - One debts\nRepay with debts ratio: Swap from 10 token B to token A\n(0.998475151013722, 0)\nRepay with debts ratio: Swap from 20 token B to token A\n(0.9969006090092818, 0)\nRepay with debts ratio: Swap from 0.5 token A to token B\n(0.0, 19.969503020274438)\nRepay with debts ratio: Swap from 1 token A to token B\n(0, 19.938012180185634)\n\n No debts\nNo debts\n(1, 0)\n"
     ]
    }
   ],
   "source": [
    "def repayDebts(ra=10000, rb=200000, da=1, db=100, na=3, nb=60):\n",
    "    # If no debt, don't swap.\n",
    "    if (da == 0 and db == 0):\n",
    "        print(\"No debts\")\n",
    "        leftA = na\n",
    "        leftB = nb\n",
    "    \n",
    "    # If current amount can repay all debts (Swap all tokens to one and compare):\n",
    "    elif (getSellAmount(na, ra, rb) + nb > getSellAmount(da, ra, rb) + db and\n",
    "          getSellAmount(nb, rb, ra) + na > getSellAmount(db, rb, ra) + da):\n",
    "\n",
    "        print(\"Repay all debts: \", end='')\n",
    "        leftA, leftB = swapToRepayAll(ra, rb, da, db, na, nb)\n",
    "\n",
    "    # Otherwise, exchange tokens according to two debts amount ratio\n",
    "    else:\n",
    "        print(\"Repay with debts ratio: \", end='')\n",
    "        if (na * db > nb * da):\n",
    "            # na/da > nb/db, swap A to B\n",
    "\n",
    "            amount = swapAToBWithDebtsRatio(ra, rb, da, db, na, nb)\n",
    "            amount = na if amount > na else amount\n",
    "            swapExactTokensForTokens(amount, ['A', 'B'])\n",
    "\n",
    "            leftA = na - amount\n",
    "            leftB = nb + getSellAmount(amount, ra, rb)\n",
    "\n",
    "        elif (na * db < nb * da):\n",
    "            # Otherwise, swap B to A\n",
    "\n",
    "            amount = swapAToBWithDebtsRatio(rb, ra, db, da, nb, na)\n",
    "            amount = nb if amount > nb else amount\n",
    "            swapExactTokensForTokens(amount, ['B', 'A'])\n",
    "\n",
    "            leftA = na + getSellAmount(amount, rb, ra)\n",
    "            leftB = nb - amount\n",
    "\n",
    "        else:\n",
    "            print('na/da == nb/db, don\\'t swap')\n",
    "\n",
    "    return leftA, leftB\n",
    "\n",
    "print(\" Repay all\")\n",
    "print(\" - Two debts\")\n",
    "print(repayDebts(ra=10000, rb=200000, da=1, db=100, na=4, nb=60))      # Swap A to 40 B\n",
    "print(repayDebts(ra=10000, rb=200000, da=1, db=100, na=0, nb=120.4))   # Swap B to 1 A\n",
    "print(repayDebts(ra=10000, rb=200000, da=1, db=100, na=2, nb=200))     # Enough, don't swap\n",
    "\n",
    "print(\"\\n - One debts\")\n",
    "print(repayDebts(ra=10000, rb=200000, da=0, db=100, na=4, nb=60))      # Swap A to 40 B\n",
    "print(repayDebts(ra=10000, rb=200000, da=0, db=100, na=4, nb=100))     # Enough, don't swap\n",
    "print(repayDebts(ra=10000, rb=200000, da=1, db=0, na=0, nb=21))        # Swap B to 1 A\n",
    "print(repayDebts(ra=10000, rb=200000, da=1, db=0, na=1, nb=20))        # Enough, don't swap\n",
    "\n",
    "print(\"\\n Repay according to two debts amount ratio\")\n",
    "print(\" - Two debts\")\n",
    "print(repayDebts(ra=10000, rb=200000, da=1, db=100, na=3, nb=60))      # Swap about 2 A to B\n",
    "print(repayDebts(ra=10000, rb=200000, da=1, db=100, na=0.5, nb=110))   # Swap about 10 B to A\n",
    "\n",
    "print(\"\\n - One debts\")\n",
    "print(repayDebts(ra=10000, rb=200000, da=1, db=0, na=0.5, nb=10))       # Swap about 10 B to A\n",
    "print(repayDebts(ra=10000, rb=200000, da=1, db=0, na=0, nb=20))         # Swap about 20 B to A\n",
    "print(repayDebts(ra=10000, rb=200000, da=0, db=20, na=0.5, nb=10))      # Swap about 0.5 A to B\n",
    "print(repayDebts(ra=10000, rb=200000, da=0, db=20, na=1, nb=0))         # Swap about 1 to B\n",
    "\n",
    "# No debts\n",
    "print(\"\\n No debts\")\n",
    "print(repayDebts(ra=10000, rb=200000, da=0, db=0, na=1, nb=0))         # No debts, don't swap"
   ]
  },
  {
   "cell_type": "code",
   "execution_count": 114,
   "metadata": {},
   "outputs": [
    {
     "output_type": "stream",
     "name": "stdout",
     "text": [
      "Rate is 0, do nothing\n\nRepay with debts ratio: Swap from 0.40020275464939914 token A to token B\nRepay A with amount 0.19979724535060084, back amount 0, left debts 0.8002027546493992\nRepay B with amount 19.979724534987316, back amount 0, left debts 80.02027546501269\n\nRepay with debts ratio: Swap from 2.001066858179911 token A to token B\nRepay A with amount 0.9989331418200891, back amount 0, left debts 0.0010668581799109234\nRepay B with amount 99.89331418197683, back amount 0, left debts 0.10668581802316623\n\nRepay all debts: Can repay without swap, don't swap\nRepay A with amount 1, back amount 5.0, left debts 0\nRepay B with amount 100, back amount 20.0, left debts 0\n\n"
     ]
    }
   ],
   "source": [
    "# Whithdraw money.\n",
    "def execute(ra, rb, da, db, na, nb, rate, whichWantBack):\n",
    "    if rate == 0:\n",
    "        print(\"Rate is 0, do nothing\", end='\\n\\n')\n",
    "        return\n",
    "\n",
    "    tempNa = na * rate / 10000\n",
    "    tempNb = nb * rate / 10000\n",
    "\n",
    "    # If want token back, repay debts with given rate.\n",
    "    # Otherwise, use all withdrawn money to repay debts.\n",
    "    if (whichWantBack != 3):\n",
    "        tempDa = da * rate / 10000\n",
    "        tempDb = db * rate / 10000\n",
    "    else:\n",
    "        tempDa = da\n",
    "        tempDb = db\n",
    "\n",
    "    leftA, leftB = repayDebts(ra, rb, tempDa, tempDb, tempNa, tempNb)\n",
    "\n",
    "    # Start to repay\n",
    "    if (leftA >= tempDa):\n",
    "        print(\"Repay A with amount {}, back amount {}, left debts {}\".format(tempDa, leftA-tempDa, da-tempDa))\n",
    "    else:\n",
    "        print(\"Repay A with amount {}, back amount {}, left debts {}\".format(leftA, 0, da-leftA))\n",
    "\n",
    "    if (leftB >= tempDb):\n",
    "        print(\"Repay B with amount {}, back amount {}, left debts {}\".format(tempDb, leftB-tempDb, db-tempDb))\n",
    "    else:\n",
    "        print(\"Repay B with amount {}, back amount {}, left debts {}\".format(leftB, 0, db-leftB))\n",
    "    \n",
    "    print()\n",
    "\n",
    "# Just repay\n",
    "execute(ra=10000, rb=200000, da=1, db=100, na=6, nb=120, rate=0, whichWantBack=3)   # Rate is 0\n",
    "execute(ra=10000, rb=200000, da=1, db=100, na=6, nb=120, rate=1000, whichWantBack=3)   #\n",
    "execute(ra=10000, rb=200000, da=1, db=100, na=6, nb=120, rate=5000, whichWantBack=3)   # Swap about 2 A to B\n",
    "execute(ra=10000, rb=200000, da=1, db=100, na=6, nb=120, rate=10000, whichWantBack=3)   #"
   ]
  },
  {
   "cell_type": "code",
   "execution_count": 121,
   "metadata": {},
   "outputs": [
    {
     "output_type": "stream",
     "name": "stdout",
     "text": [
      "Repay all debts: Swap from token A to 8.0 token B\nRepay A with amount 0.1, back amount 0.10121590350976803, left debts 0.9\nRepay B with amount 20.0, back amount 0.0, left debts 180.0\n\nRepay all debts: Can repay without swap, don't swap\nRepay A with amount 0.5, back amount 2.5, left debts 0.5\nRepay B with amount 50.0, back amount 10.0, left debts 50.0\n\nRepay all debts: Can repay without swap, don't swap\nRepay A with amount 1.0, back amount 5.0, left debts 0.0\nRepay B with amount 100.0, back amount 20.0, left debts 0.0\n\n"
     ]
    }
   ],
   "source": [
    "# Only repay debt with the input rate\n",
    "execute(ra=10000, rb=200000, da=1, db=200, na=6, nb=120, rate=1000, whichWantBack=2)   #\n",
    "execute(ra=10000, rb=200000, da=1, db=100, na=6, nb=120, rate=5000, whichWantBack=2)   #\n",
    "execute(ra=10000, rb=200000, da=1, db=100, na=6, nb=120, rate=10000, whichWantBack=2)   #"
   ]
  },
  {
   "cell_type": "code",
   "execution_count": null,
   "metadata": {},
   "outputs": [],
   "source": []
  }
 ]
}